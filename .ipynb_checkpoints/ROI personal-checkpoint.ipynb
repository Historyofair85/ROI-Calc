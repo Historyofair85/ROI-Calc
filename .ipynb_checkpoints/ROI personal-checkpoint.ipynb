{
 "cells": [
  {
   "cell_type": "code",
   "execution_count": 17,
   "id": "7a4bc89f",
   "metadata": {},
   "outputs": [
    {
     "name": "stdout",
     "output_type": "stream",
     "text": [
      "BIGGER Pockets\n",
      "Hard Work pays..1000\n",
      "Independent work, side jobs, parley winning(s)..1000\n",
      "-Total income will be 2000.0\n",
      "What are you spending it on??\n",
      "Enter rent/mortgage total: 25\n",
      "Enter utilites total: 252\n",
      "Auto Insurance/Car Notes: 25\n",
      "Credit Card bill(s), approx.: 25\n",
      "Enter groceries bill: 258\n",
      "Subscriptions, Memberships, Clubs: 52\n",
      "Piggy Bank deposit: 25\n",
      "Random, Spontaneous, and Down Right Negligible : 500\n",
      "Expenses that might hurt next month will be $1162.0\n",
      "Not bad kid, heres what's left over $838.0\n",
      "Be SMART with your money!!\n"
     ]
    }
   ],
   "source": [
    "print('BIGGER Pockets')\n",
    "income = float(input('Hard Work pays..'))\n",
    "additional = float(input('Independent work, side jobs, parley winning(s)..'))\n",
    "\n",
    "total_income = income + additional\n",
    "print('-Total income will be '+ str(total_income))\n",
    "print(\"What are you spending it on??\")\n",
    "\n",
    "def gather_expenses():\n",
    "    housing = float(input('Enter rent/mortgage total: '))\n",
    "    utilities = float(input('Enter utilites total: '))\n",
    "    auto = float(input('Auto Insurance/Car Notes: '))\n",
    "    credit = float(input('Credit Card bill(s), approx.: '))\n",
    "    groceries = float(input(\"Avg. monthly grocery budget: \"))\n",
    "    memberships = float(input('Subscriptions, Memberships, Clubs: '))\n",
    "    savings = float(input('Piggy Bank deposit: '))\n",
    "    misc = float(input(\"Random, Spontaneous, and Down Right Negligible : \"))\n",
    "    total_expenses = housing + utilities + auto + credit + groceries + memberships + savings + misc\n",
    "    return total_expenses\n",
    "\n",
    "expense_total = gather_expenses()\n",
    "print(\"Expenses that might hurt next month will be $\"+ str(expense_total)) \n",
    "margin =  total_income - expense_total\n",
    "if margin >= 0:\n",
    "    print('Not bad kid, heres what\\'s left over $' +str(margin))\n",
    "else:\n",
    "    print('SMH Do Better! $' +str(margin) + ' negative!')\n",
    "\n",
    "print('Be SMART with your money!!')\n",
    "\n",
    "    "
   ]
  },
  {
   "cell_type": "code",
   "execution_count": null,
   "id": "22dd3996",
   "metadata": {},
   "outputs": [],
   "source": []
  },
  {
   "cell_type": "code",
   "execution_count": null,
   "id": "611dc14e",
   "metadata": {},
   "outputs": [],
   "source": []
  }
 ],
 "metadata": {
  "kernelspec": {
   "display_name": "Python 3 (ipykernel)",
   "language": "python",
   "name": "python3"
  },
  "language_info": {
   "codemirror_mode": {
    "name": "ipython",
    "version": 3
   },
   "file_extension": ".py",
   "mimetype": "text/x-python",
   "name": "python",
   "nbconvert_exporter": "python",
   "pygments_lexer": "ipython3",
   "version": "3.9.13"
  }
 },
 "nbformat": 4,
 "nbformat_minor": 5
}
