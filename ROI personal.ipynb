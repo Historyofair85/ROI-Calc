{
 "cells": [
  {
   "cell_type": "code",
   "execution_count": 21,
   "id": "7a4bc89f",
   "metadata": {},
   "outputs": [
    {
     "name": "stdout",
     "output_type": "stream",
     "text": [
      "BIGGER Pockets\n",
      "Hard Work pays..7000\n",
      "Independent work, side jobs, parley winning(s)..2000\n",
      "-Money earned feel better than money won 9000.0\n",
      "So, where is that money going??\n",
      "Enter rent/mortgage total: 2200\n",
      "Enter utilites total: 500\n",
      "Auto Insurance/Car Notes: 500\n",
      "Credit Card bill(s), approx.: 1000\n",
      "Avg. monthly grocery budget: 600\n",
      "Subscriptions, Memberships, Clubs: 150\n",
      "Piggy Bank deposit: 300\n",
      "Random, Spontaneous, and Down Right Negligible: 500\n",
      "Expenses that may or may not hurt next month will be $5750.0\n",
      "Not bad kid, heres what's left over $3250.0\n",
      "Be SMART with your money!!\n"
     ]
    }
   ],
   "source": [
    "print('BIGGER Pockets')\n",
    "income = float(input('Hard Work pays..'))\n",
    "additional = float(input('Independent work, side jobs, parley winning(s)..'))\n",
    "\n",
    "total_income = income + additional\n",
    "print('-Money EARNED '+ str(total_income))\n",
    "print(\"So, where is that money going??\")\n",
    "\n",
    "def gather_expenses():\n",
    "    housing = float(input('Enter rent/mortgage total: '))\n",
    "    utilities = float(input('Enter utilites total: '))\n",
    "    auto = float(input('Auto Insurance/Car Notes: '))\n",
    "    credit = float(input('Credit Card bill(s), approx.: '))\n",
    "    groceries = float(input(\"Avg. monthly grocery budget: \"))\n",
    "    memberships = float(input('Subscriptions, Memberships, Clubs: '))\n",
    "    savings = float(input('Piggy Bank deposit(s): '))\n",
    "    misc = float(input(\"Random, Spontaneous, and Down Right Negligible: \"))\n",
    "    total_expenses = housing + utilities + auto + credit + groceries + memberships + savings + misc\n",
    "    return total_expenses\n",
    "\n",
    "expense_total = gather_expenses()\n",
    "print(\"Expenses that may or may not hurt next month will be $\"+ str(expense_total)) \n",
    "margin =  total_income - expense_total\n",
    "if margin >= 0:\n",
    "    print('Not bad kid, heres what\\'s left over $' +str(margin))\n",
    "else:\n",
    "    print('SMH Do Better...I\\'m disappoint in you! $' +str(margin) + ' negative!')\n",
    "\n",
    "print('Be SMART with your money!!')\n",
    "\n",
    "    "
   ]
  },
  {
   "cell_type": "code",
   "execution_count": null,
   "id": "58fe74e0",
   "metadata": {},
   "outputs": [],
   "source": []
  },
  {
   "cell_type": "code",
   "execution_count": null,
   "id": "5bc5bd08",
   "metadata": {},
   "outputs": [],
   "source": []
  }
 ],
 "metadata": {
  "kernelspec": {
   "display_name": "Python 3 (ipykernel)",
   "language": "python",
   "name": "python3"
  },
  "language_info": {
   "codemirror_mode": {
    "name": "ipython",
    "version": 3
   },
   "file_extension": ".py",
   "mimetype": "text/x-python",
   "name": "python",
   "nbconvert_exporter": "python",
   "pygments_lexer": "ipython3",
   "version": "3.9.13"
  }
 },
 "nbformat": 4,
 "nbformat_minor": 5
}
